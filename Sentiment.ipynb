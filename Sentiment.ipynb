{
  "nbformat": 4,
  "nbformat_minor": 0,
  "metadata": {
    "colab": {
      "name": "Sentiment.ipynb",
      "provenance": [],
      "collapsed_sections": [],
      "authorship_tag": "ABX9TyPpO4TWGWwZObEZ7xOZJKbo",
      "include_colab_link": true
    },
    "kernelspec": {
      "name": "python3",
      "display_name": "Python 3"
    }
  },
  "cells": [
    {
      "cell_type": "markdown",
      "metadata": {
        "id": "view-in-github",
        "colab_type": "text"
      },
      "source": [
        "<a href=\"https://colab.research.google.com/github/alx1056/Sentiment_Analysis/blob/main/Sentiment.ipynb\" target=\"_parent\"><img src=\"https://colab.research.google.com/assets/colab-badge.svg\" alt=\"Open In Colab\"/></a>"
      ]
    },
    {
      "cell_type": "code",
      "metadata": {
        "id": "ixpqFxomscGM"
      },
      "source": [
        "#pip install newspaper3k"
      ],
      "execution_count": null,
      "outputs": []
    },
    {
      "cell_type": "code",
      "metadata": {
        "id": "56Sa_xbXtoih"
      },
      "source": [
        "from textblob import TextBlob\n",
        "import nltk\n",
        "from newspaper import Article"
      ],
      "execution_count": 2,
      "outputs": []
    },
    {
      "cell_type": "code",
      "metadata": {
        "id": "vLpejmB7t1IR"
      },
      "source": [
        "url = 'https://www.cnbc.com/'\n",
        "article = Article(url)\n"
      ],
      "execution_count": 9,
      "outputs": []
    },
    {
      "cell_type": "code",
      "metadata": {
        "id": "OUE5SRKzuGED"
      },
      "source": [
        "article.download()\n",
        "article.parse()\n",
        "#nltk.download('punkt')\n",
        "article.nlp()"
      ],
      "execution_count": 10,
      "outputs": []
    },
    {
      "cell_type": "code",
      "metadata": {
        "colab": {
          "base_uri": "https://localhost:8080/"
        },
        "id": "3YIT9VDduk0s",
        "outputId": "e60c340c-9970-460b-a96e-9bdfc9341124"
      },
      "source": [
        "text = article.summary\n",
        "\n",
        "print(text)"
      ],
      "execution_count": 11,
      "outputs": [
        {
          "output_type": "stream",
          "text": [
            "The next three to six months will be challenging, but long-term growth is strong: Dallas Fed Pres.\n"
          ],
          "name": "stdout"
        }
      ]
    },
    {
      "cell_type": "code",
      "metadata": {
        "colab": {
          "base_uri": "https://localhost:8080/"
        },
        "id": "sfdkp-Kqu27n",
        "outputId": "f7b8da45-6796-4d22-df7a-2c67bd2e4df9"
      },
      "source": [
        "obj = TextBlob(text)\n",
        "\n",
        "sentiment = obj.sentiment.polarity\n",
        "\n",
        "if sentiment == 0:\n",
        "  print('The text is nuetral')\n",
        "elif sentiment > 0:\n",
        "  print('The text is positive')\n",
        "else: \n",
        "  print(\"The text is negative\")\n"
      ],
      "execution_count": 13,
      "outputs": [
        {
          "output_type": "stream",
          "text": [
            "The text is positive\n"
          ],
          "name": "stdout"
        }
      ]
    }
  ]
}